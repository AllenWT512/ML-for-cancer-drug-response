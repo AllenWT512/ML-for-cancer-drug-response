{
 "cells": [
  {
   "cell_type": "code",
   "execution_count": null,
   "metadata": {},
   "outputs": [],
   "source": [
    "library(openxlsx): # Loads the openxlsx library, which is an R package for reading and writing Excel files (.xlsx).\n",
    "\n",
    "library(ComplexHeatmap): # Loads the ComplexHeatmap library, which provides tools for creating complex heatmaps.\n",
    "\n",
    "library(circlize): # Loads the circlize library, which is used for creating circular visualizations (although it might not be directly used in this code).\n",
    "\n",
    "setwd(\"C:\\\\Users\\\\Administrator\\\\Melbourne University Assignment jupyter notebook\\\\assignment1\"):#  Sets the working directory to the specified path, which is important for locating files for reading and writing.\n",
    "\n",
    "tubian30 <- read.csv(\"TopMutationGene30.csv\", row.names = 1): # Reads a CSV file named \"TopMutationGene30.csv\" from the working directory and sets the first column as row names.\n",
    "\n",
    "tubian30[tubian30 == 1] <- \"mutation\": # Replaces all instances of the value 1 in the data frame with the string \"mutation\", likely to represent mutations in the heatmap.\n",
    "\n",
    "tubian30[tubian30 == 0] <- \" \": # Replaces all instances of the value 0 in the data frame with a space, which will likely result in blank cells in the heatmap.\n",
    "\n",
    "col = c(\"mutation\" = \"#8999ca\"): # Defines a color vector for the heatmap, assigning a specific color (in this case, #8999ca) to represent \"mutation\".\n",
    "\n",
    "alter_fun = function(x, y, w, h, v) { ... }: # Defines a custom function alter_fun that will be used to alter the appearance of the heatmap cells.The function receives five parameters: x and y are the positions of the grid, w and h are the width and height of the grid, and v is a vector indicating the category of the current grid.\n",
    "\n",
    "n=sum(v): # Inside the alter_fun function, calculates the total number of \"mutation\" categories in the current cell.\n",
    "\n",
    "h=0.9*h: # Sets the actual height of the cell to 90% of the original height.\n",
    "\n",
    "grid.rect(...): # Uses the rect function from the grid package to draw a rectangle representing the background of each cell.\n",
    "\n",
    "if(v[\"mutation\"]) grid.rect(...): # If the current cell contains a \"mutation\", it draws a rectangle with the specified color fill.\n",
    "\n",
    "column_title = \"OncoPrint \": # Sets the column title for the heatmap to \"OncoPrint \".\n",
    "\n",
    "heatmap_legend_param = list(title = \"Alternations\", at = c(\"mutation\"), labels = c(\"mutation\")): # Sets the parameters for the heatmap legend, including the title, categories, and labels.\n",
    "\n",
    "oncoPrint(tubian30, ...): # Calls the oncoPrint function to generate and display the heatmap with all the previously defined parameters and the data frame.\n",
    "\n",
    "remove_empty_columns = TRUE, remove_empty_rows = TRUE # Removes any empty columns and rows from the data frame before plotting the heatmap.\n",
    "\n",
    "# Overall, the purpose of this code is to create a heatmap to visualize mutation data from cancer genomics, with \"mutations\" being represented by a specific color."
   ]
  }
 ],
 "metadata": {
  "language_info": {
   "name": "python"
  }
 },
 "nbformat": 4,
 "nbformat_minor": 2
}
